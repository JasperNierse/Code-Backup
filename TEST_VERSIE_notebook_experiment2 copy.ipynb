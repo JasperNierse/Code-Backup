{
 "cells": [
  {
   "cell_type": "markdown",
   "metadata": {},
   "source": [
    "## Import modules\n"
   ]
  },
  {
   "cell_type": "markdown",
   "metadata": {},
   "source": [
    "Code voor oonderzoek thermische expansie coefficient van onbekend metaal met de Michelson - Inteferometer. \n",
    "- Auteurs: Jasper Nierse, Feia Schipper\n",
    "- Student ID: 15201023 \n",
    "- Datum: 16/03/25\n",
    "- Begeleider: Anna van Dun"
   ]
  },
  {
   "cell_type": "markdown",
   "metadata": {},
   "source": [
    "Test of code opslaat\n",
    "test 2"
   ]
  },
  {
   "cell_type": "code",
   "execution_count": 4,
   "metadata": {},
   "outputs": [],
   "source": [
    "# import modules\n",
    "import numpy as np\n",
    "import matplotlib.pyplot as plt\n",
    "\n",
    "from lmfit import models"
   ]
  },
  {
   "cell_type": "markdown",
   "metadata": {},
   "source": [
    "## Invoeren lijsten met data\n",
    "\n",
    "Verzamelde data zal in de vorm zijn:\n",
    "    [Delta] N = N_0 - [N'] waar [N'] de gemeten waarde is uit de inteferro meter bij elke voor de hoeveelheid fringes.\n",
    "\n",
    "    [theta] = de afgelezen waarde voor de nieuwe hoek die is ontstaan uit na verhogen van de temperatuur.\n",
    "\n",
    "    [Delta T] = [gemeten temp] - kamertemp  "
   ]
  },
  {
   "cell_type": "markdown",
   "metadata": {},
   "source": [
    "#### Berekenen brekingsindex van het glas\n",
    "\n",
    "Brekingsindex wordt berekend uit de dikte van het glas, de invallen hoek van de laser en afgelezen fringes per meting.\n",
    "\n",
    "De gevonden waarden na het experiment zijn:"
   ]
  },
  {
   "cell_type": "code",
   "execution_count": 1,
   "metadata": {},
   "outputs": [
    {
     "ename": "SyntaxError",
     "evalue": "invalid syntax (1871027345.py, line 7)",
     "output_type": "error",
     "traceback": [
      "\u001b[1;36m  Cell \u001b[1;32mIn[1], line 7\u001b[1;36m\u001b[0m\n\u001b[1;33m    golflengte = te meten # in [m]\u001b[0m\n\u001b[1;37m                    ^\u001b[0m\n\u001b[1;31mSyntaxError\u001b[0m\u001b[1;31m:\u001b[0m invalid syntax\n"
     ]
    }
   ],
   "source": [
    "# Functie om brekingsindex te berekenen\n",
    "def brekingsindex():\n",
    "\n",
    "    gemeten_hoeken = [invullen]\n",
    "    gemeten_fringes = [invullen]\n",
    "    dikte = 0.0144 #[m]\n",
    "    golflengte = te meten # in [m]\n",
    "\n",
    "    lijst_brekingsindex = []\n",
    "    teller = 0\n",
    "\n",
    "    for i in gemeten_hoeken:\n",
    "        teller_n = (2* dikte - gemeten_fringes[teller] * golflengte) * (1 - np.cos(i))\n",
    "        noemer_n = 2 * dikte * (1 - np.cos(i)) - gemeten_fringes[teller] * golflengte\n",
    "\n",
    "        n = teller_n / noemer_n\n",
    "\n",
    "        lijst_brekingsindex.append(n)\n",
    "        teller  += 1\n",
    "\n",
    "    return lijst_brekingsindex"
   ]
  },
  {
   "cell_type": "markdown",
   "metadata": {},
   "source": [
    "Uit deze waarde van n nog een fit maken om een definitieve waarde voor n te vinden die in de volgende formules als constante wordt genomen. De fit zal lineair zijn uit wet van Snell's. "
   ]
  },
  {
   "cell_type": "markdown",
   "metadata": {},
   "source": [
    "#### Meting 1\n",
    "Lijsten met gemeten data van onbekend metaal 1:\n",
    "\n",
    "Er wordt gemeten op vooraf bepaalde tijdsintervallen Delta_t, waarbij het verschil in fringes bepaald word uit de gemeten fringes bij de corresponderende gemeten temperatuur ten opzichte van de T_0 temperatuur in [K]. Ofwel hoeveel N geteld tot een bepaalde tijdswaarde. "
   ]
  },
  {
   "cell_type": "code",
   "execution_count": 1,
   "metadata": {},
   "outputs": [],
   "source": [
    "lijst_N_gemeten_1 = [2,4,8,9,10,11,13]  #[fringes]\n",
    "T_0_gemeten_1 = 22  #[Kelvind]\n",
    "lijst_T_eind_gemeten_1 = [28,35,41,49,56,63,70] # Gemeten per tijdseenheid. \n",
    "hoek_gemeten_1 = 28 #[hoek graden]\n",
    "L_0_gemeten_1 = 0.1617 # lengte metaal bij Delta_T = 0\n"
   ]
  },
  {
   "cell_type": "markdown",
   "metadata": {},
   "source": [
    "#### Meting 2\n",
    "Lijsten met gemeten data van onbekend metaal 2:"
   ]
  },
  {
   "cell_type": "code",
   "execution_count": null,
   "metadata": {},
   "outputs": [],
   "source": [
    "lijst_N_gemeten_2 = [nog meten]  #[fringes]\n",
    "T_0_gemeten_2 = nog meten  #[Kelvin]\n",
    "lijst_T_eind_gemeten_2 = [nog meten] # Gemeten per tijdseenheid. \n",
    "hoek_gemeten_2 =  #[hoek graden]\n",
    "L_0_gemeten_2 = waarde nog te meten  # lengte metaal bij Delta_T = 0"
   ]
  },
  {
   "cell_type": "markdown",
   "metadata": {},
   "source": [
    "### Fitten van de gevonden Delta_N en Delta_T voor metaal 1;\n",
    " om de richtingscoeff te vinden om alpha te berekenen. \n",
    "\n",
    " Delta_N = a * Delta_T"
   ]
  },
  {
   "cell_type": "code",
   "execution_count": 2,
   "metadata": {},
   "outputs": [],
   "source": [
    "# Fitten van de waarde voor a.\n",
    "\n",
    "lijst_Delta_T_meting_1 = []\n",
    "for i in lijst_T_eind_gemeten_1:\n",
    "    Delta_T_1 = i - T_0_gemeten_1\n",
    "    lijst_Delta_T_meting_1.append(Delta_T_1)\n",
    "\n",
    "# Fout op N, [yerr]\n",
    "delta_N = 0.5\n",
    "fout_N_1 = []\n",
    "for i in lijst_N_gemeten_1:\n",
    "    fout = i * delta_N\n",
    "    fout_N_1.append(fout)\n",
    "\n",
    "# Fout op T, [xerr]\n",
    "delta_T = 0.05\n",
    "fout_T = []\n",
    "for j in lijst_Delta_T_meting_1:\n",
    "    fout = j * delta_T\n",
    "    fout_T.append(fout)"
   ]
  },
  {
   "cell_type": "markdown",
   "metadata": {},
   "source": [
    "#### Plot van de gemeten waardes, Delta_N en Delta_T van meting 1"
   ]
  },
  {
   "cell_type": "code",
   "execution_count": 5,
   "metadata": {},
   "outputs": [
    {
     "data": {
      "image/png": "[encoded data removed]",
      "text/plain": [
       "<Figure size 640x480 with 1 Axes>"
      ]
     },
     "metadata": {},
     "output_type": "display_data"
    }
   ],
   "source": [
    "# Plot van de gemeten waardes bij meting 1\n",
    "plt.figure()\n",
    "\n",
    "plt.errorbar(lijst_Delta_T_meting_1, lijst_N_gemeten_1, yerr = fout_N_1, fmt='o')\n",
    "plt.xlabel(\"verschil in temperatuur [K]\")\n",
    "plt.ylabel(\"Gemeten fringes\")\n",
    "plt.xlim()\n",
    "plt.ylim()\n",
    "plt.show()"
   ]
  },
  {
   "cell_type": "markdown",
   "metadata": {},
   "source": [
    "#### Plot van de gemeten waardes, Delta_N en Delta_T van meting 2"
   ]
  },
  {
   "cell_type": "code",
   "execution_count": null,
   "metadata": {},
   "outputs": [],
   "source": [
    "# Plot van de gemeten waardes bij meting 1\n",
    "plt.figure()\n",
    "\n",
    "plt.errorbar(lijst_Delta_T_meting_2, lijst_N_gemeten_2, yerr = fout_N, fmt='o')\n",
    "plt.xlabel(\"verschil in temperatuur [K]\")\n",
    "plt.ylabel(\"Gemeten fringes\")\n",
    "plt.xlim()\n",
    "plt.ylim()"
   ]
  },
  {
   "cell_type": "markdown",
   "metadata": {},
   "source": [
    "Defineren fit waardes"
   ]
  },
  {
   "cell_type": "code",
   "execution_count": 14,
   "metadata": {},
   "outputs": [],
   "source": [
    "# define fit function with parameters p1 en p2, waar y Delta_N en x Delta_T.\n",
    "\n",
    "x_1 = lijst_Delta_T_meting_1\n",
    "y_1 = lijst_N_gemeten_1\n",
    "x_err_1 = fout_T\n",
    "y_err_1 = fout_N_1\n",
    "\n",
    "def fit_function (x, p1):\n",
    "    y = p1 * x\n",
    "    return y\n",
    "\n",
    "\n",
    "# create model of fit function\n",
    "mod_MI = models.Model(fit_function)\n",
    "\n",
    "# initialize array and calculate weights\n",
    "y_err_array_1 = np.array(y_err_1)\n",
    "y_inv_err_1 = 1 / y_err_array_1\n",
    "\n",
    "\n",
    "# use model to fit\n",
    "fit_result_meting_1 = mod_MI.fit(y_1, x = x_1, weights = y_inv_err_1, p1 = 0.28654672)"
   ]
  },
  {
   "cell_type": "markdown",
   "metadata": {},
   "source": [
    "#### Plot van fit van meting 1"
   ]
  },
  {
   "cell_type": "code",
   "execution_count": 15,
   "metadata": {},
   "outputs": [
    {
     "data": {
      "image/png": "[encoded data removed]",
      "text/plain": [
       "<Figure size 640x480 with 1 Axes>"
      ]
     },
     "metadata": {},
     "output_type": "display_data"
    }
   ],
   "source": [
    "# create new figure\n",
    "plt.figure()\n",
    "\n",
    "# create errorbar plot with fit\n",
    "# data displayed as circles\n",
    "plt.errorbar(x_1, y_1, yerr = y_err_1, fmt='o')\n",
    "plt.plot(x_1, fit_result_meting_1.best_fit, 'r-')\n",
    "\n",
    "plt.show()"
   ]
  },
  {
   "cell_type": "markdown",
   "metadata": {},
   "source": [
    "Opvragen fit gegevens meting 1"
   ]
  },
  {
   "cell_type": "code",
   "execution_count": 16,
   "metadata": {},
   "outputs": [
    {
     "name": "stdout",
     "output_type": "stream",
     "text": [
      "[[Model]]\n",
      "    Model(fit_function)\n",
      "[[Fit Statistics]]\n",
      "    # fitting method   = leastsq\n",
      "    # function evals   = 5\n",
      "    # data points      = 7\n",
      "    # variables        = 1\n",
      "    chi-square         = 0.50553800\n",
      "    reduced chi-square = 0.08425633\n",
      "    Akaike info crit   = -16.3962955\n",
      "    Bayesian info crit = -16.4503853\n",
      "    R-squared          = 0.88112014\n",
      "[[Variables]]\n",
      "    p1:  0.30624834 +/- 0.01695323 (5.54%) (init = 0.2865467)\n"
     ]
    }
   ],
   "source": [
    "# print fit report\n",
    "print(fit_result_meting_1.fit_report())"
   ]
  },
  {
   "cell_type": "markdown",
   "metadata": {},
   "source": [
    "### Berekenen van Alpha uit a "
   ]
  },
  {
   "cell_type": "code",
   "execution_count": 18,
   "metadata": {},
   "outputs": [],
   "source": [
    "# Functie berekend de thermische expansie coeff uit ingevulde waarde. De constante zijn hetzelfde bij de twee metingen,\n",
    "# met a de waarde van de richtingscoeff uit de fit van (Delta_N / Delta_T).\n",
    "def thermische_expansie_coeffiecient(a, lengte_0, gemeten_hoek_graden):\n",
    "\n",
    "    # Constante waardes\n",
    "    # N_0 = waarde te meten # Waarde N op kamertemp bij hoek theta = 0\n",
    "    gemeten_hoek = np.radians(gemeten_hoek_graden)\n",
    "    arm_lengte = 0.23558 # center draai schijf tot contact punt metaal\n",
    "    brekingsindex_glas = 1.5 \n",
    "    dikte_glas = 0.0144 # [m]\n",
    "    golflengte_laser = 632.8*10**(-9) # Golflengte van laser in [m]\n",
    "\n",
    "    alpha_teller = a * golflengte_laser * arm_lengte * (brekingsindex_glas - 1 + np.cos(gemeten_hoek))**2\n",
    "    alpha_noemer = 2 * brekingsindex_glas * dikte_glas * np.sin(gemeten_hoek) * (brekingsindex_glas - 1) * lengte_0\n",
    "    alpha = alpha_teller / alpha_noemer\n",
    "\n",
    "    return alpha \n",
    "\n",
    "    # # # Verschil in fringes\n",
    "    # # Delta_N = []\n",
    "\n",
    "    # # for i in gemeten_N:\n",
    "    # #     verschil_N = N_0 - i\n",
    "    # #     Delta_N.append(verschil_N)\n",
    "\n",
    "    # # Verschil in temperatuur\n",
    "    # Delta_T = []\n",
    "    # teller = 0\n",
    "    # for j in gemeten_T_eind:\n",
    "    #     verschil_T = j - gemeten_T_0\n",
    "    #     Delta_T.append(verschil_T)\n",
    "    #     teller += 1\n",
    "\n",
    "    # # Berekenen thermische expansie coeff\n",
    "\n",
    "    # lijst_alpha = []\n",
    "    # teller = 0\n",
    "\n",
    "    # for k in Delta_T:\n",
    "        \n",
    "    #     teller_alpha = gemeten_N[teller] * golflengte_laser * arm_lengte * (brekingsindex_glas -1 + np.cos(np.radians(gemeten_hoek)))**2\n",
    "    #     noemer_alpha = 2 * brekingsindex_glas * dikte_glas * np.sin(np.radians(gemeten_hoek)) * (brekingsindex_glas - 1) * lengte_0 * k\n",
    "\n",
    "    #     alpha = teller_alpha / noemer_alpha\n",
    "\n",
    "    #     lijst_alpha.append(alpha)\n",
    "\n",
    "    #     teller += 1\n",
    "\n",
    "    # return lijst_alpha\n"
   ]
  },
  {
   "cell_type": "markdown",
   "metadata": {},
   "source": [
    "### Fouten van beide metalen.\n",
    "Met bekende metalen waar waar Alpha dicht van in de buurt komt als bij de onze.\n",
    "Voor de fit is een foutenpropegatie nodig:\n",
    "\n",
    "Er zijn fouten op de waarde voor: \n",
    "- Gemeten fringes en hierna verschil in fringes Delta_N\n",
    "- Arm lengte R\n",
    "- Brekingsindex n\n",
    "- Opgemeten hoek theta\n",
    "- Gemeten temperatuur en hierna Delta_T\n",
    "- Lengte van onbekende metaal op L_0\n",
    "- Dikte van het het glas d\n",
    "\n",
    "De waarde;\n",
    "- Delta_N, R, L_0 & d zijn constanten en;\n",
    "- Delta_T en Delta_theta (voor brekingsindex specifiek) zijn lijsten."
   ]
  },
  {
   "cell_type": "markdown",
   "metadata": {},
   "source": [
    "### Berekenen van fouten\n",
    "Brekingsindex"
   ]
  },
  {
   "cell_type": "code",
   "execution_count": null,
   "metadata": {},
   "outputs": [],
   "source": [
    "# Fouten op directe te meten waardes:\n",
    "delta_R = 0.0001 # in [m]\n",
    "delta_L_0 = 0.0001 # in [m]\n",
    "delta_d = 0.03*10**(-3) # in [m]\n",
    "delta_N = 0.5 # fout op fringes  \n",
    "\n",
    "#---------------------------------------------------<Functies berekenen fouten>-------------------------------------------------\n",
    "\n",
    "#-------------------------------------------------------<Fout brekingsindex>-------------------------------------------------\n",
    "# Fouten op omgerekende waardes:\n",
    "# Fout op temperatuur       \n",
    "def fout_temperatuur(gemeten_T_0 ,gemeten_T_eind):\n",
    "\n",
    "    lijst_delta_T = []\n",
    "    fout_handleiding = waarde invullen\n",
    "    teller = 0\n",
    "    for i in gemeten_T_eind:\n",
    "        fout_T = (i - gemeten_T_0) * fout_handleiding\n",
    "        lijst_delta_T.append(fout_T)\n",
    "        teller += 1\n",
    "\n",
    "    return lijst_delta_T\n",
    "\n",
    "\n",
    "# Fout op hoek theta\n",
    "def fout_hoeken(gemeten_theta):\n",
    "\n",
    "    fout_draai_tafel = waarde invullen #[graden]\n",
    "    lijst_delta_theta = []\n",
    "\n",
    "    for i in gemeten_theta:\n",
    "        fout_theta = i * fout_draai_tafel\n",
    "        lijst_delta_theta.append(fout_theta)\n",
    "\n",
    "    return lijst_delta_theta\n",
    "\n",
    "\n",
    "# fout brekingsindex n\n",
    "def fout_brekingsindex(gemeten_N, gemeten_theta):\n",
    "    \n",
    "    dikte = 0.0144 #[m]\n",
    "    golflengte = te meten # in [m]\n",
    "\n",
    "    delta_d = invullen\n",
    "    delta_N = invullen\n",
    "    delta_theta = fout_hoeken(gemeten_theta)\n",
    "\n",
    "    # Fouten berekenen voor elk component in formule brekingsindex\n",
    "    fout_n_d = []\n",
    "    teller = 0\n",
    "\n",
    "    # Op de dikte\n",
    "    for i in gemeten_N:\n",
    "\n",
    "        der_d = (-1) * (2 * golflengte * i * np.cos(np.degrees(gemeten_theta[teller]))(1 - np.cos(np.degrees(gemeten_theta[teller])))) / ((2 * dikte (1 - np.cos(np.degrees(gemeten_theta[teller])) - golflengte * i))**2)\n",
    "        fout_d = der_d * delta_d\n",
    "\n",
    "        fout_n_d.append(fout_d)\n",
    "        teller += 1\n",
    "\n",
    "    # Op de fringes\n",
    "    fout_n_N = []\n",
    "    teller = 0\n",
    "\n",
    "    for j in gemeten_N:\n",
    "\n",
    "        der_N = (2 * golflengte * dikte * np.cos(np.degrees(gemeten_theta[teller]))(1 - np.cos(np.degrees(gemeten_theta[teller])))) / ((2 * dikte * (1 - np.cos(np.degrees(gemeten_theta[teller]))) - j * golflengte)**2)\n",
    "        fout_N = der_N * delta_N\n",
    "\n",
    "        fout_n_N.append(fout_N)\n",
    "        teller += 1\n",
    "\n",
    "    # Op de gemeten hoek\n",
    "    fout_n_theta = []\n",
    "    teller = 0\n",
    "\n",
    "    for k in gemeten_N:\n",
    "\n",
    "        der_theta = (-1)(k * golflengte * np.sin(np.degrees(gemeten_theta[teller])) * (2 * dikte - k * golflengte))/((2 * dikte * (1 - np.cos(np.degrees(gemeten_theta[teller]))) - k * golflengte)**2)\n",
    "        fout_theta = der_theta * delta_theta[teller]\n",
    "\n",
    "        fout_n_theta.append(fout_theta)\n",
    "        teller += 1\n",
    "\n",
    "    # Fout op de brekingsindex:\n",
    "\n",
    "    fout_n = []\n",
    "    teller = 0\n",
    "\n",
    "    for n in fout_n_d:\n",
    "        fout = np.sqrt((n)**2 + (fout_n_N[teller])**2 + (fout_n_theta[teller])**2)\n",
    "        fout_n.append(fout)\n",
    "        teller += 1\n",
    "    \n",
    "    return fout_n\n",
    "\n"
   ]
  },
  {
   "cell_type": "markdown",
   "metadata": {},
   "source": [
    "Voor Alpha"
   ]
  },
  {
   "cell_type": "code",
   "execution_count": 20,
   "metadata": {},
   "outputs": [],
   "source": [
    "\n",
    "#----------------------------------------------------------<Fout berekenen op Alpha met standaard foutenpropegatie>---------------\n",
    "\n",
    "# Fout op de expansie coeff, geeft een waarde terug voor delta_alpha.\n",
    "def fout_alpha(a, delta_a, L_0, gemeten_theta_degrees):\n",
    "\n",
    "    gemeten_theta = np.radians(gemeten_theta_degrees)\n",
    "    # Constante waardes voor in formule fouten propegatie\n",
    "    R = 0.23558 # center draai schijf tot contact punt metaal\n",
    "    n = 1.5 \n",
    "    d = 0.0144 # [m]\n",
    "    golflengte_laser = 632.8*10**(-9) # Golflengte van laser in [m]\n",
    "\n",
    "    # Constante fouten voor in fouten propegatie\n",
    "    delta_R = 0.0001\n",
    "    delta_L_0 = 0.0001\n",
    "    delta_d = 0.03*10**(-3)\n",
    "    delta_theta = 0.0000925926 * np.pi  # in radialen\n",
    "    delta_n = 0.0002 #waarde nog te bepalen uit fout uit brekingsindex, uit fit moet delta_n komen.\n",
    "\n",
    "    # # Verschil in temperatuur\n",
    "    # Delta_T = []\n",
    "\n",
    "    # teller = 0\n",
    "    # for j in gemeten_T_eind:\n",
    "    #     verschil_T = j - gemeten_T_0\n",
    "    #     Delta_T.append(verschil_T)\n",
    "\n",
    "    #----------------------------------<De componenten van de fout op Alpha worden hier berekend:>-----------------------------------\n",
    "    \n",
    "    # # Fout op fringes\n",
    "    # fout_alpha_N = []\n",
    "    # teller = 0\n",
    "\n",
    "    # for k in Delta_N:\n",
    "    #     der_N = (golflengte_laser * R * (np.cos(np.degrees(gemeten_theta)) + n - 1)**2) / (L_0 * 2 * n * d * Delta_T[teller] * np.sin(np.degrees(gemeten_theta)) * (n - 1))\n",
    "    #     fout_N = der_N * delta_N\n",
    "\n",
    "    #     fout_alpha_N.append(fout_N)\n",
    "    #     teller += 1\n",
    "\n",
    "    # Fout op Arm lengte\n",
    "    derr_R = (a * golflengte_laser * (np.cos(gemeten_theta) + n -1)**2) / (L_0 * 2 * n * d * np.sin(gemeten_theta) * (n - 1))\n",
    "    fout_alpha_R = derr_R * delta_R\n",
    "\n",
    "    # fout_alpha_R = []\n",
    "    # teller = 0\n",
    "    # for i in Delta_N:\n",
    "    #     der_R = (golflengte_laser * i * (np.cos(np.degrees(gemeten_theta)) + n -1)**2) / (L_0 * 2 * n * d * Delta_T[teller] * np.sin(np.degrees(gemeten_theta)) * (n - 1))\n",
    "    #     fout_R = der_R * delta_R\n",
    "\n",
    "    #     fout_alpha_R.append(fout_R)\n",
    "    #     teller += 1\n",
    "\n",
    "    # Fout op brekingsindex \n",
    "    derr_n = (a * golflengte_laser * R * (-2 * n**2 * np.cos(gemeten_theta) + n**2 - 2 * n * (np.cos(gemeten_theta))**2 + 4 * n * np.cos(gemeten_theta) - 2 * n + (np.cos(gemeten_theta))**2 - 2 * np.cos(gemeten_theta) + 1)) / (L_0 * 2 * n**2 * d * np.sin(gemeten_theta) * (n - 1)**2)\n",
    "    fout_alpha_n = derr_n * delta_n\n",
    "    # fout_alpha_n = []\n",
    "    # teller = 0 \n",
    "    # for i in Delta_N:\n",
    "    #     der_n = (golflengte_laser * R * i * (-2 * n**2 * np.cos(np.degrees(gemeten_theta)) + n**2 - 2 * n * (np.cos(np.degrees(gemeten_theta)))**2 + 4 * n * np.cos(np.degrees(gemeten_theta)) - 2 * n + (np.cos(np.degrees(gemeten_theta)))**2 - 2 * np.cos(np.degrees(gemeten_theta)) + 1)) / (L_0 * 2 * n**2 * d * Delta_T[teller] * np.sin(np.degrees(gemeten_theta)) * (n - 1)**2)\n",
    "    #     fout_n = der_n * fout_brekingsindex(gemeten_N, gemeten_theta)[teller]\n",
    "\n",
    "    #     fout_alpha_n.append(fout_n)\n",
    "    #     teller += 1\n",
    "\n",
    "    # Fout op gemeten hoek\n",
    "    derr_theta = (a * golflengte_laser * R * ( -2 * (np.sin(gemeten_theta))**2 * (n - 1 + np.cos(gemeten_theta)) - np.cos(gemeten_theta) * (n - 1 + np.cos(gemeten_theta))**2)) / (L_0 * 2 * n * d * (np.sin(gemeten_theta))**2 * (n - 1))\n",
    "    fout_alpha_theta = derr_theta * delta_theta\n",
    "    # fout_alpha_theta = []\n",
    "    # teller = 0\n",
    "\n",
    "    # for i in Delta_N:\n",
    "    #     der_theta = (golflengte_laser * R * i * ( -2 * (np.sin(np.degrees(gemeten_theta)))**2 * (n - 1 + np.cos(np.degrees(gemeten_theta))) - np.cos(np.degrees(gemeten_theta)) * (n - 1 + np.cos(np.degrees(gemeten_theta)))**2)) / (L_0 * 2 * n * d * Delta_T[teller] * (np.sin(np.degrees(gemeten_theta)))**2 * (n - 1))\n",
    "    #     fout_theta = der_theta * delta_theta\n",
    "\n",
    "    #     fout_alpha_theta.append(fout_theta)\n",
    "    #     teller += 1\n",
    "\n",
    "    # # Fout op gemeten Temperatuur\n",
    "    # fout_alpha_T = []\n",
    "    # teller = 0\n",
    "\n",
    "    # for i in Delta_N:\n",
    "    #     der_T = (-golflengte_laser * R * i * (n - 1 + np.cos(np.degrees(gemeten_theta)))**2) / (2 * L_0 * n * d * (Delta_T[teller])**2 * np.sin(np.degrees(gemeten_theta)) * (n - 1))\n",
    "    #     fout_T = der_T * fout_temperatuur(gemeten_T_eind)[teller]\n",
    "\n",
    "    #     fout_alpha_T.append(fout_T)\n",
    "    #     teller += 1\n",
    "\n",
    "    # Fout op L_0\n",
    "    derr_L_0 = (-a * golflengte_laser * R * (n - 1 + np.cos(gemeten_theta))**2) / (2 * n * d * (L_0)* 2 * np.sin(gemeten_theta) * (n - 1))\n",
    "    fout_alpha_L_0 = derr_L_0 * delta_L_0\n",
    "\n",
    "    # fout_alpha_L_0 = []\n",
    "    # teller = 0\n",
    "\n",
    "    # for i in Delta_N: \n",
    "    #     der_L_0 = (-golflengte_laser * R * i * (n - 1 + np.cos(np.degrees(gemeten_theta)))**2) / (2 * n * d * (L_0)*2 * Delta_T[teller] * np.sin(np.degrees(gemeten_theta)) * (n - 1))\n",
    "    #     fout_L_0 = der_L_0 * delta_L_0\n",
    "\n",
    "    #     fout_alpha_L_0.append(fout_L_0)\n",
    "    #     teller += 1\n",
    "\n",
    "    # Fout op dikte glas\n",
    "    derr_d = (-a * golflengte_laser * R * (n - 1 + np.cos(gemeten_theta))**2) / (2 * L_0 * d**2 * np.sin(gemeten_theta) * (n - 1))\n",
    "    fout_alpha_d = derr_d * delta_d\n",
    "\n",
    "    # fout_alpha_d = []\n",
    "    # teller = 0\n",
    "\n",
    "    # for i in Delta_N:\n",
    "    #     der_d = (-golflengte_laser * R * i * (n - 1 + np.cos(np.degrees(gemeten_theta)))**2) / (2 * L_0 * d**2 * Delta_T[teller] * np.sin(np.degrees(gemeten_theta)) * (n - 1))\n",
    "    #     fout_d = der_d * delta_d\n",
    "\n",
    "    #     fout_alpha_d.append(fout_d)\n",
    "    #     teller += 1\n",
    "\n",
    "    # Fout op waarde a\n",
    "    derr_a = (golflengte_laser * R * (np.cos(gemeten_theta) + n - 1)**2) / (L_0 * 2 * n * d * np.sin(gemeten_theta) * (n - 1))\n",
    "    fout_alpha_a = derr_a * delta_a\n",
    "\n",
    "    # ---------------------------------------<Totale fout op alpha>-------------------------------------------------------------\n",
    "\n",
    "    fout_alpha = np.sqrt((fout_alpha_R)**2 + (fout_alpha_n)**2 + (fout_alpha_theta)**2 +  (fout_alpha_L_0)**2 + (fout_alpha_d)**2 + (fout_alpha_a)**2)\n",
    "\n",
    "    # lijst_fout_alpha = []\n",
    "    # teller = 0\n",
    "\n",
    "    # for j in fout_alpha_N:\n",
    "    #     fout = np.sqrt(i**2 + (fout_alpha_R[teller])**2 + (fout_alpha_n[teller])**2 + (fout_alpha_theta[teller])**2 + (fout_alpha_T[teller])**2 + (fout_alpha_L_0[teller])**2 + (fout_alpha_d[teller])[teller]**2)\n",
    "\n",
    "    #     lijst_fout_alpha.append(fout)\n",
    "    #     teller += 1\n",
    "    \n",
    "    return fout_alpha"
   ]
  },
  {
   "cell_type": "markdown",
   "metadata": {},
   "source": [
    "### Uitwerking en geven resultaten"
   ]
  },
  {
   "cell_type": "code",
   "execution_count": 21,
   "metadata": {},
   "outputs": [
    {
     "name": "stdout",
     "output_type": "stream",
     "text": [
      "5.320650079632994e-05\n",
      "3.481845583917933e-06\n"
     ]
    }
   ],
   "source": [
    "a = 0.306\n",
    "delta_a = 0.02\n",
    "\n",
    "print(thermische_expansie_coeffiecient(a, L_0_gemeten_1, hoek_gemeten_1))\n",
    "print(fout_alpha(a, delta_a, L_0_gemeten_1, hoek_gemeten_1))"
   ]
  }
 ],
 "metadata": {
  "kernelspec": {
   "display_name": "nsp1",
   "language": "python",
   "name": "python3"
  },
  "language_info": {
   "codemirror_mode": {
    "name": "ipython",
    "version": 3
   },
   "file_extension": ".py",
   "mimetype": "text/x-python",
   "name": "python",
   "nbconvert_exporter": "python",
   "pygments_lexer": "ipython3",
   "version": "3.12.8"
  }
 },
 "nbformat": 4,
 "nbformat_minor": 2
}
