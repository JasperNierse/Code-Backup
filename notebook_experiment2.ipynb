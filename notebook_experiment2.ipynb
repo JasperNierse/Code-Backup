{
 "cells": [
  {
   "cell_type": "markdown",
   "metadata": {},
   "source": [
    "## Import modules\n"
   ]
  },
  {
   "cell_type": "markdown",
   "metadata": {},
   "source": [
    "Code voor oonderzoek thermische expansie coefficient van onbekend metaal\n",
    "- Auteur: Jasper Nierse\n",
    "- Student ID: 15201023 \n",
    "- Datum: 13/03/25\n",
    "- Begeleider: Anna van Dun"
   ]
  },
  {
   "cell_type": "markdown",
   "metadata": {},
   "source": [
    "Test of code opslaat\n",
    "test 2"
   ]
  },
  {
   "cell_type": "code",
   "execution_count": null,
   "metadata": {},
   "outputs": [],
   "source": [
    "# import modules\n",
    "import numpy as np\n",
    "import matplotlib.pyplot as plt\n",
    "\n",
    "from lmfit import models"
   ]
  },
  {
   "cell_type": "markdown",
   "metadata": {},
   "source": [
    "## Invoeren lijsten met data\n",
    "\n",
    "Verzamelde data zal in de vorm zijn:\n",
    "    [Delta] N = N_0 - [N'] waar [N'] de gemeten waarde is uit de inteferro meter bij elke voor de hoeveelheid fringes.\n",
    "\n",
    "    [theta] = de afgelezen waarde voor de nieuwe hoek die is ontstaan uit na verhogen van de temperatuur.\n",
    "\n",
    "    [Delta T] = [gemeten temp] - kamertemp  "
   ]
  },
  {
   "cell_type": "markdown",
   "metadata": {},
   "source": [
    "#### Berekenen brekingsindex van het glas\n",
    "\n",
    "Brekingsindex wordt berekend uit de dikte van het glas, de invallen hoek van de laser en afgelezen fringes per meting.\n",
    "\n",
    "De gevonden waarden na het experiment zijn:"
   ]
  },
  {
   "cell_type": "code",
   "execution_count": 8,
   "metadata": {},
   "outputs": [
    {
     "ename": "SyntaxError",
     "evalue": "invalid syntax (1871027345.py, line 7)",
     "output_type": "error",
     "traceback": [
      "\u001b[1;36m  Cell \u001b[1;32mIn[8], line 7\u001b[1;36m\u001b[0m\n\u001b[1;33m    golflengte = te meten # in [m]\u001b[0m\n\u001b[1;37m                    ^\u001b[0m\n\u001b[1;31mSyntaxError\u001b[0m\u001b[1;31m:\u001b[0m invalid syntax\n"
     ]
    }
   ],
   "source": [
    "# Functie om brekingsindex te berekenen\n",
    "def brekingsindex():\n",
    "\n",
    "    gemeten_hoeken = [invullen]\n",
    "    gemeten_fringes = [invullen]\n",
    "    dikte = 0.0144 #[m]\n",
    "    golflengte = te meten # in [m]\n",
    "\n",
    "    lijst_brekingsindex = []\n",
    "    teller = 0\n",
    "\n",
    "    for i in gemeten_hoeken:\n",
    "        teller_n = (2* dikte - gemeten_fringes[teller] * golflengte) * (1 - np.cos(i))\n",
    "        noemer_n = 2 * dikte * (1 - np.cos(i)) - gemeten_fringes[teller] * golflengte\n",
    "\n",
    "        n = teller_n / noemer_n\n",
    "\n",
    "        lijst_brekingsindex.append(n)\n",
    "        teller  += 1\n",
    "\n",
    "    return lijst_brekingsindex"
   ]
  },
  {
   "cell_type": "markdown",
   "metadata": {},
   "source": [
    "Uit deze waarde van n nog een fit maken om een definitieve waarde voor n te vinden die in de volgende formules als constante wordt genomen."
   ]
  },
  {
   "cell_type": "markdown",
   "metadata": {},
   "source": [
    "#### Meting 1\n",
    "Lijsten met gemeten data van onbekend metaal 1:"
   ]
  },
  {
   "cell_type": "code",
   "execution_count": null,
   "metadata": {},
   "outputs": [],
   "source": [
    "lijst_N_gemeten_1 = []  #[fringes]\n",
    "lijst_T_gemeten_1 = []  #[graden celcius]\n",
    "lijst_hoeken_gemeten_1 = [] #[hoek graden]"
   ]
  },
  {
   "cell_type": "markdown",
   "metadata": {},
   "source": [
    "#### Meting 2\n",
    "Lijsten met gemeten data van onbekend metaal 1:"
   ]
  },
  {
   "cell_type": "code",
   "execution_count": null,
   "metadata": {},
   "outputs": [],
   "source": [
    "lijst_N_gemeten_2 = []  #[fringes]\n",
    "lijst_T_gemeten_2 = []  #[graden celcius]\n",
    "lijst_hoeken_gemeten_2 = [] #[hoek graden]"
   ]
  },
  {
   "cell_type": "code",
   "execution_count": null,
   "metadata": {},
   "outputs": [],
   "source": [
    "# Functie berekend de thermische expansie coeff uit ingevulde waarde. De constante zijn hetzelfde bij de twee metingen. \n",
    "def thermische_expansie_coeffiecient(gemeten_N, gemeten_T, lengte_0, gemeten_hoeken):\n",
    "\n",
    "    # Constante waardes\n",
    "    N_0 = waarde te meten # Waarde N op kamertemp bij hoek theta = 0\n",
    "    arm_lengte = te meten # center draai schijf tot contact punt metaal\n",
    "    brekingsindex_glas = te meten \n",
    "    dikte_glas = 0.0144 # [m]\n",
    "    golflengte_laser = te bepalen # Golflengte van laser in [m]\n",
    "    T_0 = kamer temp zaal # Kamer temp in zaal in [kelvin]\n",
    "\n",
    "    # Verschil in fringes\n",
    "    Delta_N = []\n",
    "\n",
    "    for i in gemeten_N:\n",
    "        verschil_N = N_0 - i\n",
    "        Delta_N.append(verschil_N)\n",
    "\n",
    "    # Verschil in temperatuur\n",
    "    Delta_T = []\n",
    "\n",
    "    for j in gemeten_T:\n",
    "        verschil_T = j - T_0\n",
    "        Delta_T.append(verschil_T)\n",
    "\n",
    "    # Berekenen thermische expansie coeff\n",
    "\n",
    "    lijst_alpha = []\n",
    "    teller = 0\n",
    "\n",
    "    for k in Delta_T:\n",
    "        \n",
    "        teller_alpha = Delta_N[teller] * golflengte_laser * arm_lengte * (brekingsindex_glas -1 + np.cos(gemeten_hoeken[teller]))**2\n",
    "        noemer_alpha = 2 * brekingsindex_glas * dikte_glas * np.sin(gemeten_hoeken[teller]) * (brekingsindex_glas - 1) * lengte_0 * k\n",
    "\n",
    "        alpha = teller_alpha / noemer_alpha\n",
    "\n",
    "        lijst_alpha.append(alpha)\n",
    "\n",
    "        teller += 1\n",
    "\n",
    "    return lijst_alpha\n"
   ]
  },
  {
   "cell_type": "markdown",
   "metadata": {},
   "source": [
    "### Fit van beide metalen.\n",
    "Met bekende metalen waar waar Alpha dicht van in de buurt komt als bij de onze.\n",
    "Voor de fit is een foutenpropegatie nodig:\n",
    "\n",
    "Er zijn fouten op de waarde voor: \n",
    "- Gemeten fringes en hierna verschil in fringes Delta_N\n",
    "- Arm lengte R\n",
    "- Brekingsindex n\n",
    "- Opgemeten hoek theta\n",
    "- Gemeten temperatuur en hierna Delta_T\n",
    "- Lengte van onbekende metaal op L_0\n",
    "- Dikte van het het glas d"
   ]
  },
  {
   "cell_type": "code",
   "execution_count": null,
   "metadata": {},
   "outputs": [],
   "source": [
    "# Fouten op directe te meten waardes:\n",
    "delta_R = waarde # in [m]\n",
    "delta_L_0 = waarde # in [m]\n",
    "delta_d = waarde # in [m]\n",
    "delta_N = waarde # fout op fringes\n",
    "\n",
    "\n",
    "# Fouten op omgerekende waardes:\n",
    "# Fout op temperatuur\n",
    "def fout_temperatuur(gemeten_T):\n",
    "\n",
    "    T_0 = invullen # Kamer temperatuur in [K]\n",
    "    lijst_delta_T = []\n",
    "    fout_handleiding = waarde invullen\n",
    "\n",
    "    for i in gemeten_T:\n",
    "        fout_T = (i - T_0) * fout_handleiding\n",
    "        lijst_delta_T.append(fout_T)\n",
    "\n",
    "    return lijst_delta_T\n",
    "\n",
    "\n",
    "# Fout op hoek theta\n",
    "def fout_hoeken(gemeten_theta):\n",
    "\n",
    "    fout_draai_tafel = invullen #[graden]\n",
    "    lijst_delta_theta = []\n",
    "\n",
    "    for i in gemeten_theta:\n",
    "        fout_theta = i * fout_draai_tafel\n",
    "        lijst_delta_theta.append(fout_theta)\n",
    "\n",
    "    return lijst_delta_theta\n",
    "\n",
    "\n",
    "# fout brekingsindex n\n",
    "def fout_brekingsindex(gemeten_N, gemeten_theta):\n",
    "    \n",
    "    dikte = 0.0144 #[m]\n",
    "    golflengte = te meten # in [m]\n",
    "\n",
    "    delta_d = invullen\n",
    "    delta_N = invullen\n",
    "    delta_theta = fout_hoeken(gemeten_theta)\n",
    "\n",
    "    # Fouten berekenen voor elk component in formule brekingsindex\n",
    "    fout_n_d = []\n",
    "    teller = 0\n",
    "\n",
    "    # Op de dikte\n",
    "    for i in gemeten_N:\n",
    "\n",
    "        der_d = (-1) * (2 * golflengte * i * np.cos(gemeten_theta[teller])(1 - np.cos(gemeten_theta[teller]))) / ((2 * dikte (1 - np.cos(gemeten_theta[teller]) - golflengte * i))**2)\n",
    "        fout_d = der_d * delta_d\n",
    "\n",
    "        fout_n_d.append(fout_d)\n",
    "        teller += 1\n",
    "\n",
    "    # Op de fringes\n",
    "    fout_n_N = []\n",
    "    teller = 0\n",
    "\n",
    "    for j in gemeten_N:\n",
    "\n",
    "        der_N = (2 * golflengte * dikte * np.cos(gemeten_theta[teller])(1 - np.cos(gemeten_theta[teller]))) / ((2 * dikte * (1 - np.cos(gemeten_theta[teller])) - j * golflengte)**2)\n",
    "        fout_N = der_N * delta_N\n",
    "\n",
    "        fout_n_N.append(fout_N)\n",
    "        teller += 1\n",
    "\n",
    "    # Op de gemeten hoek\n",
    "    fout_n_theta = []\n",
    "    teller = 0\n",
    "\n",
    "    for k in gemeten_N:\n",
    "\n",
    "        der_theta = (-1)(k * golflengte * np.sin(gemeten_theta[teller]) * (2 * dikte - k * golflengte))/((2 * dikte * (1 - np.cos(gemeten_theta[teller])) - k * golflengte)**2)\n",
    "        fout_theta = der_theta * delta_theta[teller]\n",
    "\n",
    "        fout_n_theta.append(fout_theta)\n",
    "        teller += 1\n",
    "\n",
    "    # Fout op de brekingsindex:\n",
    "\n",
    "    fout_n = []\n",
    "    teller = 0\n",
    "\n",
    "    for n in fout_n_d:\n",
    "        fout = np.sqrt((n)**2 + (fout_n_N[teller])**2 + (fout_n_theta[teller])**2)\n",
    "        fout_n.append(fout)\n",
    "        teller += 1\n",
    "    \n",
    "    return fout_n\n",
    "\n",
    "\n",
    "\n",
    "# Fout op de expansie coeff\n",
    "def fout_alpha(delta_R, delta_L_0, delta_d, delta_N, delta_n, delta_theta, delta_T, gemeten_N, gemeten_T, L_0, gemeten_theta):\n",
    "\n",
    "    # Constante waardes\n",
    "    N_0 = waarde te meten # Waarde N op kamertemp bij hoek theta = 0\n",
    "    R = te meten # center draai schijf tot contact punt metaal\n",
    "    n = te meten \n",
    "    d = 0.0144 # [m]\n",
    "    golflengte_laser = te bepalen # Golflengte van laser in [m]\n",
    "    T_0 = kamer temp zaal # Kamer temp in zaal in [kelvin]\n",
    "\n",
    "    # Verschil in fringes\n",
    "    Delta_N = []\n",
    "\n",
    "    for i in gemeten_N:\n",
    "        verschil_N = N_0 - i\n",
    "        Delta_N.append(verschil_N)\n",
    "\n",
    "    # Verschil in temperatuur\n",
    "    Delta_T = []\n",
    "\n",
    "    for j in gemeten_T:\n",
    "        verschil_T = j - T_0\n",
    "        Delta_T.append(verschil_T)\n",
    "\n",
    "    # De componenten van de fout op Alpha worden hier berekend:\n",
    "    \n",
    "    ### Hier komt nog de mega berekening op de fout op Alpha ###\n",
    "        \n",
    "\n",
    "\n",
    "\n",
    "\n",
    "\n",
    "\n"
   ]
  }
 ],
 "metadata": {
  "kernelspec": {
   "display_name": "nsp1",
   "language": "python",
   "name": "python3"
  },
  "language_info": {
   "codemirror_mode": {
    "name": "ipython",
    "version": 3
   },
   "file_extension": ".py",
   "mimetype": "text/x-python",
   "name": "python",
   "nbconvert_exporter": "python",
   "pygments_lexer": "ipython3",
   "version": "3.12.8"
  }
 },
 "nbformat": 4,
 "nbformat_minor": 2
}
