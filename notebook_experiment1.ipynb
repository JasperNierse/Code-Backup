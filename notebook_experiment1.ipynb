{
 "cells": [
  {
   "cell_type": "markdown",
   "metadata": {},
   "source": [
    "## Import Modules"
   ]
  },
  {
   "cell_type": "code",
   "execution_count": 1,
   "metadata": {},
   "outputs": [],
   "source": [
    "# import modules\n",
    "import numpy as np\n",
    "import matplotlib.pyplot as plt\n",
    "\n",
    "from lmfit import models\n"
   ]
  },
  {
   "cell_type": "markdown",
   "metadata": {},
   "source": [
    "## Code Analyse Data"
   ]
  },
  {
   "cell_type": "markdown",
   "metadata": {},
   "source": [
    "##### Berekeningen Foton flux en Elektronen stroom uit data"
   ]
  },
  {
   "cell_type": "code",
   "execution_count": 2,
   "metadata": {},
   "outputs": [
    {
     "name": "stdout",
     "output_type": "stream",
     "text": [
      "[15865916750567.375, 582782210398889.6, 2551029698777301.0, 3.4359977047848036e+16]\n",
      "[6.584171849174146e-07, 1.172913178791256e-05, 2.40250438620365e-05, 2.6190182287107174e-05]\n"
     ]
    }
   ],
   "source": [
    "# Gemeten lichtintensiteit per cm**2\n",
    "# data_licht = [Blauw, Groen, Rood, IR] voor alle sets.\n",
    "#--------------------------------------------------- < Meting Test 1> ---------------------------------------------\n",
    "data_spectrometer_1 = [46.7*10**(-2), 70.5*10**(-2), 129.8*10**(-2), 1241*10**(-2)] #[Watt/m**2]\n",
    "data_golflengtes_1 = [410*10**(-9), 560*10**(-9), 650*10**(-9), 840*10**(-9)] #[m]\n",
    "data_voltage_1 = [4.1*10**(-3), 25.1*10**(-3), 52.4*10**(-3), 193.5*10**(-3)] #[V]\n",
    "data_amperage_1 = [0.62*10**(-3), 3.72*10**(-3), 7.8*10**(-3), 28.45*10**(-3)] #[A]\n",
    "\n",
    "# Natuur constantes:\n",
    "    # Waarde van Wikipedia\n",
    "planck_constante = 6.62607015 * 10**(-34) #[J*s]\n",
    "    # Waarde van Wikipedia\n",
    "lichtsnelheid = 299792458 #[m/s]\n",
    "    # Waarde van Wikipedia\n",
    "elektron_energie = 1.602176565 * 10**(-19) #[J]\n",
    "\n",
    "\n",
    "# Berekenen fotonflux uit spectrometer.\n",
    "def foton_flux_energie(golflengte, input_vermogen_spectrometer):\n",
    "\n",
    "    lijst_foton_energie = []\n",
    "    for i in golflengte:\n",
    "        foton_energie = (planck_constante * lichtsnelheid) / i\n",
    "        lijst_foton_energie.append(foton_energie)\n",
    "\n",
    "    return lijst_foton_energie\n",
    "\n",
    "\n",
    "def foton_flux(golflengte, input_vermogen_spectrometer):\n",
    "\n",
    "    lijst_foton_energie = []\n",
    "    for i in golflengte:\n",
    "        foton_energie = (planck_constante * lichtsnelheid) / i\n",
    "        lijst_foton_energie.append(foton_energie)\n",
    "\n",
    "    teller = 0\n",
    "    lijst_foton_flux = []\n",
    "    for j in input_vermogen_spectrometer:\n",
    "\n",
    "        flux = j / lijst_foton_energie[teller] #[Aantal fotonen/cm(**2) * s]\n",
    "        lijst_foton_flux.append(flux)\n",
    "        teller += 1\n",
    "\n",
    "    return lijst_foton_flux, lijst_foton_energie\n",
    "\n",
    "\n",
    "# Geeft een lijst\n",
    "def elektronen_stroom(voltage, amperage): \n",
    "\n",
    "    lijst_vermogen_e = []\n",
    "    teller = 0\n",
    "\n",
    "    for i in voltage:\n",
    "\n",
    "        vermogen_e = i * amperage[teller]\n",
    "\n",
    "        lijst_vermogen_e.append(vermogen_e)\n",
    "        teller += 1\n",
    "\n",
    "    lijst_flux_e = []\n",
    "    for j in lijst_vermogen_e:\n",
    "        flux = j / elektron_energie #[Aantal elektronen/s]\n",
    "        lijst_flux_e.append(flux)\n",
    "\n",
    "    return lijst_flux_e\n",
    "\n",
    "print(elektronen_stroom(data_voltage_1, data_amperage_1))\n",
    "\n",
    "def quantum_efficiency(foton_flux, elektronen_flux, oppervlak):\n",
    "\n",
    "    lijst_QE = []\n",
    "    teller = 0\n",
    "\n",
    "    for i in foton_flux:\n",
    "        \n",
    "        qe = (elektronen_flux[teller]) / (i * oppervlak)  \n",
    "        \n",
    "        lijst_QE.append(qe)\n",
    "        teller += 1 \n",
    "\n",
    "    return lijst_QE\n",
    "\n",
    "print(quantum_efficiency(foton_flux(data_golflengtes_1, data_spectrometer_1)[0], elektronen_stroom(data_voltage_1, data_amperage_1), 25))"
   ]
  },
  {
   "cell_type": "markdown",
   "metadata": {},
   "source": [
    "##### Fouten propogatie"
   ]
  },
  {
   "cell_type": "code",
   "execution_count": 3,
   "metadata": {},
   "outputs": [],
   "source": [
    "# Foutenpropagatie foton flux.\n",
    "def fout_flux_foton(foton_energie, input_vermogen_spectrometer):\n",
    "\n",
    "    lijst_error_input_vermogen_spectrometer = []\n",
    "    for i in input_vermogen_spectrometer:\n",
    "\n",
    "        error_input_vermogen_spectrometer = 0.01 * i\n",
    "        lijst_error_input_vermogen_spectrometer.append(error_input_vermogen_spectrometer)\n",
    "\n",
    "    teller = 0\n",
    "    lijst_fouten_fotonen = []\n",
    "\n",
    "    for j in foton_energie:\n",
    "\n",
    "        fout_fotonen = np.sqrt(((1/j)*lijst_error_input_vermogen_spectrometer[teller])**2)\n",
    "        lijst_fouten_fotonen.append(fout_fotonen)\n",
    "        teller += 1\n",
    "\n",
    "    return lijst_fouten_fotonen    \n",
    "\n",
    "\n",
    "# Foutenpropagatie elektronen flux.\n",
    "def fout_flux_elektron(voltage, amperage):\n",
    "\n",
    "    lijst_error_volt = []\n",
    "    for i in voltage:\n",
    "\n",
    "        error_voltage = (0.008 * i) + 0.0001\n",
    "        lijst_error_volt.append(error_voltage)\n",
    "\n",
    "\n",
    "    lijst_error_ampere = []\n",
    "    for j in amperage:\n",
    "\n",
    "        error_amperage = (0.013 * j) + 0.0000001\n",
    "        lijst_error_ampere.append(error_amperage)\n",
    "\n",
    "\n",
    "    lijst_fout_elektronen = []\n",
    "    teller = 0\n",
    "\n",
    "    for k in lijst_error_volt:\n",
    "\n",
    "        fout_elektronen = np.sqrt(((amperage[teller]/elektron_energie)*k)**2 + ((voltage[teller]/elektron_energie)*lijst_error_ampere[0])**2)\n",
    "        lijst_fout_elektronen.append(fout_elektronen)\n",
    "        teller += 1\n",
    "\n",
    "    return lijst_fout_elektronen\n",
    "\n",
    "\n",
    "# Foutenpropagatie QE.\n",
    "\n",
    "def fout_QE (foton_flux, oppervlak, elektronen_stroom, fout_fotonen, fout_elektronen): # Input lijsten\n",
    "\n",
    "    fout_oppervlak = 0.001      # [m] Hier rond de 1mm door meetlat gebruikt. \n",
    "    lengte = np.sqrt(oppervlak)\n",
    "\n",
    "    lijst_fout_1 = []\n",
    "    teller = 0\n",
    "    for i in foton_flux:\n",
    "\n",
    "        fout_1 = ((-elektronen_stroom[teller]) / (oppervlak * (i)**2)) * fout_fotonen[teller]\n",
    "        lijst_fout_1.append(fout_1)\n",
    "        teller += 1\n",
    "\n",
    "    lijst_fout_2 = []\n",
    "    teller = 0\n",
    "    for j in foton_flux:\n",
    "\n",
    "        fout_2 = (1/(oppervlak * j)) * fout_elektronen[teller]\n",
    "        lijst_fout_2.append(fout_2)\n",
    "        teller += 1\n",
    "\n",
    "    lijst_fout_3 = []\n",
    "    teller = 0\n",
    "    for k in foton_flux:\n",
    "\n",
    "        fout_3 = (-elektronen_stroom[teller]) / (((oppervlak**2 * k))) * 2*lengte*fout_oppervlak\n",
    "        lijst_fout_3.append(fout_3)\n",
    "        teller += 1\n",
    "    #print (lijst_fout_3)\n",
    "\n",
    "    lijst_fout_QE = []\n",
    "    teller = 0\n",
    "    for p in lijst_fout_1:\n",
    "        \n",
    "        fout_qe = np.sqrt((p)**2 + (lijst_fout_2[teller])**2 + (lijst_fout_3[teller])**2)\n",
    "        lijst_fout_QE.append(fout_qe)\n",
    "        teller += 1\n",
    "    \n",
    "    return lijst_fout_QE\n",
    "\n",
    "    "
   ]
  },
  {
   "cell_type": "markdown",
   "metadata": {},
   "source": [
    "##### Uitwerken meting 1\n",
    "\n",
    "Deze meting is verworpen\n"
   ]
  },
  {
   "cell_type": "code",
   "execution_count": 4,
   "metadata": {},
   "outputs": [],
   "source": [
    "# #print(foton_flux(data_golflengtes_1, data_spectrometer_1)[1])\n",
    "\n",
    "# #print(elektronen_stroom(data_voltage_1, data_amperage_1))\n",
    "\n",
    "# oppervlak = float(25) #cm**2\n",
    "# print(quantum_efficiency(foton_flux(data_golflengtes_1, data_spectrometer_1)[0], elektronen_stroom(data_voltage_1, data_amperage_1), oppervlak))\n",
    "\n",
    "# fout_QE(foton_flux(data_golflengtes_1, data_spectrometer_1)[0], oppervlak, elektronen_stroom(data_voltage_1, data_amperage_1), fout_flux_foton(foton_flux_energie(data_golflengtes_1, data_spectrometer_1), data_spectrometer_1), fout_flux_elektron(data_voltage_1, data_amperage_1))\n",
    "\n"
   ]
  },
  {
   "cell_type": "markdown",
   "metadata": {},
   "source": [
    "##### Uitwerking meting 2\n"
   ]
  },
  {
   "cell_type": "code",
   "execution_count": 5,
   "metadata": {},
   "outputs": [
    {
     "name": "stdout",
     "output_type": "stream",
     "text": [
      "[np.float64(6.971082684138686e-05), np.float64(7.925391383112078e-05), np.float64(8.589062368852356e-05), np.float64(0.00030366663882245404), np.float64(0.0003227163891358074), np.float64(0.00030688856602481427), np.float64(0.0006418889196843641), np.float64(0.0006526611835658326), np.float64(0.000643863054865803), np.float64(0.0005662293747518047), np.float64(0.0006476152045015532), np.float64(0.0007682269325986564)]\n"
     ]
    }
   ],
   "source": [
    "#data_licht = [Blauw, Blauw, Blauw, Groen, Groen, Groen, Rood, Rood, Rood, IR, IR, IR,] voor alle sets.\n",
    "\n",
    "data_golflengtes_2 = [410*10**(-9), 430*10**(-9), 450*10**(-9), 510*10**(-9), 560*10**(-9), 580*10**(-9), 625*10**(-9), 650*10**(-9), 680*10**(-9), 805*10**(-9), 840*10**(-9), 890*10**(-9)]   \t        # meter\n",
    "data_spectrometer_2 = [99.8*10**(-2), 83.7*10**(-2), 73.8*10**(-2), 762*10**(-2), 653*10**(-2), 663*10**(-2), 1362*10**(-2), 1288*10**(-2), 1248*10**(-2), 13140*10**(-2), 11010*10**(-2), 8760*10**(-2)]   # Watt/(m**2) s**(-1)\n",
    "data_voltage_2 = [2.2*10**(-3), 2.2*10**(-3), 2.2*10**(-3), 17.9*10**(-3), 17.9*10**(-3), 17.9*10**(-3), 38.8*10**(-3), 38.8*10**(-3), 38.8*10**(-3), 129.4*10**(-3), 129.4*10**(-3), 129.4*10**(-3)]       # Volt\n",
    "data_amperage_2 = [0.38*10**(-3), 0.38*10**(-3), 0.38*10**(-3), 3.06*10**(-3), 3.06*10**(-3), 3.06*10**(-3), 6.67*10**(-3), 6.67*10**(-3), 6.67*10**(-3), 22.14*10**(-3), 22.14*10**(-3), 22.14*10**(-3)]   # Ampère\n",
    "\n",
    "oppervlak = float(25*10**(-4)) #m**2\n",
    "\n",
    "#quantum_efficiency(foton_flux(data_golflengtes_2, data_spectrometer_2)[0], elektronen_stroom(data_voltage_2, data_amperage_2), oppervlak)\n",
    "# print(quantum_efficiency(foton_flux(data_golflengtes_2, data_spectrometer_2)[0], elektronen_stroom(data_voltage_2, data_amperage_2), oppervlak))\n",
    "print(fout_QE(foton_flux(data_golflengtes_2, data_spectrometer_2)[0], oppervlak, elektronen_stroom(data_voltage_2, data_amperage_2), fout_flux_foton(foton_flux_energie(data_golflengtes_2, data_spectrometer_2), data_spectrometer_2), fout_flux_elektron(data_voltage_2, data_amperage_2)))\n",
    "\n",
    "\n",
    "\n",
    "\n",
    "\n",
    "\n",
    "\n",
    "\n"
   ]
  },
  {
   "cell_type": "markdown",
   "metadata": {},
   "source": [
    "### Plot na meting twee\n"
   ]
  },
  {
   "cell_type": "code",
   "execution_count": 6,
   "metadata": {},
   "outputs": [
    {
     "name": "stdout",
     "output_type": "stream",
     "text": [
      "[np.float64(0.006971082684138686), np.float64(0.007925391383112079), np.float64(0.008589062368852356), np.float64(0.030366663882245404), np.float64(0.032271638913580744), np.float64(0.030688856602481426), np.float64(0.06418889196843641), np.float64(0.06526611835658326), np.float64(0.06438630548658031), np.float64(0.05662293747518047), np.float64(0.06476152045015532), np.float64(0.07682269325986564)]\n"
     ]
    },
    {
     "data": {
      "image/png": "[encoded data removed]",
      "text/plain": [
       "<Figure size 640x480 with 1 Axes>"
      ]
     },
     "metadata": {},
     "output_type": "display_data"
    }
   ],
   "source": [
    "\n",
    "# Waarde omzetten van meter naar nano meters voor netheid in grafiek\n",
    "x = []\n",
    "for n in data_golflengtes_2:\n",
    "    item = n * 10**(9)\n",
    "    x.append(item)\n",
    "\n",
    "QE_data = quantum_efficiency(foton_flux(data_golflengtes_2, data_spectrometer_2)[0], elektronen_stroom(data_voltage_2, data_amperage_2), oppervlak)\n",
    "\n",
    "# Waarde omzetten naar QE in percentages voor netheid grafiek.\n",
    "y = []\n",
    "for m in QE_data:\n",
    "    item = m * 100\n",
    "    y.append(item)\n",
    "\n",
    "# Waarde omzetten naar QE in percentages.\n",
    "yerr_meter = fout_QE(foton_flux(data_golflengtes_2, data_spectrometer_2)[0], oppervlak, elektronen_stroom(data_voltage_2, data_amperage_2), fout_flux_foton(foton_flux_energie(data_golflengtes_2, data_spectrometer_2), data_spectrometer_2), fout_flux_elektron(data_voltage_2, data_amperage_2))\n",
    "# print(yerr_meter)\n",
    "# print(y)\n",
    "yerr = []\n",
    "for k in yerr_meter:\n",
    "    item = k * 100\n",
    "    yerr.append(item)\n",
    "\n",
    "print (yerr)\n",
    "\n",
    "\n",
    "\n",
    "fig_QE_golflengte = plt.figure(\"Meting 2\")\n",
    "\n",
    "plt.errorbar(x, y, yerr, fmt='o')\n",
    "plt.xlabel(\"Golflengte [nm]\")\n",
    "plt.ylabel(\"QE [%]\")\n",
    "# Change the x and y ticks by adding minor ticks\n",
    "plt.minorticks_on()\n",
    "plt.tick_params(which='minor', length=2)\n",
    "plt.grid(linestyle = '--', linewidth = 0.5, alpha = 0.5)\n",
    "plt.xlim(400)\n",
    "plt.ylim(0)\n",
    "plt.savefig(\"plot_versie_1\")"
   ]
  }
 ],
 "metadata": {
  "kernelspec": {
   "display_name": "nsp1",
   "language": "python",
   "name": "python3"
  },
  "language_info": {
   "codemirror_mode": {
    "name": "ipython",
    "version": 3
   },
   "file_extension": ".py",
   "mimetype": "text/x-python",
   "name": "python",
   "nbconvert_exporter": "python",
   "pygments_lexer": "ipython3",
   "version": "3.12.8"
  }
 },
 "nbformat": 4,
 "nbformat_minor": 2
}
